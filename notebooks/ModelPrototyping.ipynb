{
 "cells": [
  {
   "cell_type": "code",
   "execution_count": 9,
   "metadata": {},
   "outputs": [],
   "source": [
    "import os\n",
    "import zipfile\n",
    "import joblib as pkl\n",
    "from torchvision.datasets import ImageFolder\n",
    "from torchvision import transforms\n",
    "from torch.utils.data import DataLoader"
   ]
  },
  {
   "cell_type": "code",
   "execution_count": 10,
   "metadata": {},
   "outputs": [],
   "source": [
    "def pickle(value = None, filename = None):\n",
    "    if value and filename:\n",
    "        pkl.dump(value = value, filename=filename)\n",
    "    else:\n",
    "        raise ValueError(\"value and filename are required\".capitalize())"
   ]
  },
  {
   "cell_type": "code",
   "execution_count": 13,
   "metadata": {},
   "outputs": [],
   "source": [
    "to_extract = \"../data/raw/\"\n",
    "to_save = \"../data/processed/\""
   ]
  },
  {
   "cell_type": "code",
   "execution_count": 34,
   "metadata": {},
   "outputs": [],
   "source": [
    "class Loader:\n",
    "    def __init__(self, image_path = None, batch_size = 64, image_size = 64, normalized = True):\n",
    "        self.image_path = image_path\n",
    "        self.batch_size = batch_size\n",
    "        self.image_size = image_size\n",
    "        self.use_normalized = normalized\n",
    "\n",
    "    def unzip_images(self):\n",
    "        with zipfile.ZipFile(self.image_path, \"r\") as zip_ref:\n",
    "            if os.path.exists(to_extract):\n",
    "                zip_ref.extractall(to_extract)\n",
    "            else:\n",
    "                raise Exception(\"Extracting images failed\".capitalize())\n",
    "\n",
    "    def _normalized(self):\n",
    "        if self.use_normalized:\n",
    "            transform = transforms.Compose([\n",
    "                transforms.ToTensor(),\n",
    "                transforms.Resize(self.image_size),\n",
    "                transforms.Normalize(mean=[0.5, 0.5, 0.5], std=[0.5, 5, 0.5]),\n",
    "                transforms.Grayscale(num_output_channels=1)\n",
    "            ])\n",
    "\n",
    "            return transform\n",
    "\n",
    "    @staticmethod\n",
    "    def class_to_idx(dataset = None):\n",
    "        if dataset is not None:\n",
    "            return dataset.class_to_idx\n",
    "\n",
    "    def create_dataloader(self):\n",
    "        if os.path.exists(to_extract):\n",
    "            datasets = ImageFolder(root=os.path.join(to_extract, \"Dataset\"), transform=self._normalized())\n",
    "            dataloader = DataLoader(datasets, batch_size=self.batch_size, shuffle=True)\n",
    "\n",
    "            if os.path.exists(to_save):\n",
    "\n",
    "                try:\n",
    "                    pickle(value=dataloader, filename=os.path.join(to_save, \"dataloader.pkl\"))\n",
    "                    pickle(value=Loader.class_to_idx(dataset=datasets), filename=os.path.join(to_save, \"dataset.pkl\"))\n",
    "                except Exception as e:\n",
    "                    print(e)\n",
    "            else:\n",
    "                raise Exception(\"Creating dataloader failed\".capitalize())\n",
    "        else:\n",
    "            raise Exception(\"Extracting images failed from the create dataloader method\".capitalize())\n",
    "\n",
    "        return dataloader, datasets.class_to_idx\n",
    "\n",
    "\n",
    "if __name__ == \"__main__\":\n",
    "    loader = Loader(\n",
    "        image_path=\"/Users/shahmuhammadraditrahman/Desktop/archive.zip\",\n",
    "        batch_size=64,\n",
    "        image_size=64,\n",
    "        normalized=True,\n",
    "    )\n",
    "    \n",
    "    loader.unzip_images()\n",
    "    dataloader, labels = loader.create_dataloader()"
   ]
  },
  {
   "cell_type": "code",
   "execution_count": null,
   "metadata": {},
   "outputs": [],
   "source": []
  }
 ],
 "metadata": {
  "kernelspec": {
   "display_name": "GPSG",
   "language": "python",
   "name": "python3"
  },
  "language_info": {
   "codemirror_mode": {
    "name": "ipython",
    "version": 3
   },
   "file_extension": ".py",
   "mimetype": "text/x-python",
   "name": "python",
   "nbconvert_exporter": "python",
   "pygments_lexer": "ipython3",
   "version": "3.9.18"
  }
 },
 "nbformat": 4,
 "nbformat_minor": 2
}
